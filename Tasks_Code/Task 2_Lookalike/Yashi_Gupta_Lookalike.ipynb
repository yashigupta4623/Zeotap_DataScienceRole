{
 "cells": [
  {
   "cell_type": "markdown",
   "id": "5ec69dd3-dc39-4204-bb02-bcb7c25cc407",
   "metadata": {},
   "source": [
    "# Task 2: Lookalike Model"
   ]
  },
  {
   "cell_type": "code",
   "execution_count": 46,
   "id": "ad80c685-7e6a-4a1e-b7cd-a09574617c82",
   "metadata": {},
   "outputs": [],
   "source": [
    "import pandas as pd\n",
    "from sklearn.metrics.pairwise import cosine_similarity"
   ]
  },
  {
   "cell_type": "code",
   "execution_count": 47,
   "id": "6c5dfa94-6f25-405c-996b-b0ddaedf2766",
   "metadata": {},
   "outputs": [],
   "source": [
    "customers = pd.read_csv('Customers.csv')\n",
    "products = pd.read_csv('Products.csv')\n",
    "transactions = pd.read_csv('Transactions.csv')"
   ]
  },
  {
   "cell_type": "code",
   "execution_count": 48,
   "id": "0e55c743-d668-4a85-8365-e73782d1e1e5",
   "metadata": {},
   "outputs": [],
   "source": [
    "customer_transactions = transactions.merge(customers, on='CustomerID').merge(products, on='ProductID')"
   ]
  },
  {
   "cell_type": "code",
   "execution_count": 49,
   "id": "ba531f57-ff4d-4397-b3ee-5c994db715a1",
   "metadata": {},
   "outputs": [],
   "source": [
    "customer_features = customer_transactions.groupby('CustomerID').agg({\n",
    "    'TotalValue': 'sum',\n",
    "    'Quantity': 'sum',\n",
    "    'ProductID': lambda x: ', '.join(x.unique()),  \n",
    "    'Region': 'first',  \n",
    "}).reset_index()"
   ]
  },
  {
   "cell_type": "code",
   "execution_count": 50,
   "id": "509e75c3-2583-4390-96d7-e5762f259628",
   "metadata": {},
   "outputs": [],
   "source": [
    "customer_features = pd.get_dummies(customer_features, columns=['Region'])"
   ]
  },
  {
   "cell_type": "code",
   "execution_count": 51,
   "id": "d9330601-f728-4ff1-9f2a-c5c5a9f49620",
   "metadata": {},
   "outputs": [],
   "source": [
    "similarity_matrix = cosine_similarity(customer_features.drop(columns=['CustomerID', 'ProductID']))"
   ]
  },
  {
   "cell_type": "code",
   "execution_count": 52,
   "id": "eb31884c-a956-410c-ac22-6fec26721ce1",
   "metadata": {},
   "outputs": [],
   "source": [
    "similarity_df = pd.DataFrame(similarity_matrix, index=customer_features['CustomerID'], columns=customer_features['CustomerID'])"
   ]
  },
  {
   "cell_type": "code",
   "execution_count": 53,
   "id": "9b31eac1-2910-4367-b959-efcc57f06032",
   "metadata": {},
   "outputs": [],
   "source": [
    "def get_top_lookalikes(customer_id, n=3):\n",
    "    scores = similarity_df[customer_id].sort_values(ascending=False)\n",
    "    top_lookalikes = scores[scores.index != customer_id].head(n)\n",
    "    return top_lookalikes"
   ]
  },
  {
   "cell_type": "code",
   "execution_count": 54,
   "id": "1a425f42-7111-463c-9e18-d7de2501cedd",
   "metadata": {},
   "outputs": [],
   "source": [
    "lookalike_results = []\n",
    "for cust_id in customer_features['CustomerID'].head(20):\n",
    "    top_lookalikes = get_top_lookalikes(cust_id)\n",
    "    for lookalike_id, score in top_lookalikes.items():\n",
    "        lookalike_results.append((cust_id, lookalike_id, score))"
   ]
  },
  {
   "cell_type": "code",
   "execution_count": 55,
   "id": "cb56a17f-a499-43c2-8519-54fdb3a8b70c",
   "metadata": {},
   "outputs": [],
   "source": [
    "lookalike_df = pd.DataFrame(lookalike_results, columns=['CustomerID', 'LookalikeID', 'SimilarityScore'])"
   ]
  },
  {
   "cell_type": "code",
   "execution_count": 56,
   "id": "8a8a3306-fae7-4d2e-bc1e-2f9019c97ec6",
   "metadata": {},
   "outputs": [],
   "source": [
    "lookalike_df.to_csv('Yashi_Gupta_Lookalike.csv', index=False)"
   ]
  },
  {
   "cell_type": "code",
   "execution_count": 57,
   "id": "2f6799f0-d713-4115-8780-4eac9d046465",
   "metadata": {},
   "outputs": [
    {
     "name": "stdout",
     "output_type": "stream",
     "text": [
      "Lookalike model created successfully. Results saved to Lookalike.csv.\n"
     ]
    }
   ],
   "source": [
    "print(\"Lookalike model created successfully. Results saved to Yashi_Gupta_Lookalike.csv.\")"
   ]
  },
  {
   "cell_type": "code",
   "execution_count": null,
   "id": "222a9228-402b-42a9-bf9c-82dfd719b4b3",
   "metadata": {},
   "outputs": [],
   "source": []
  },
  {
   "cell_type": "code",
   "execution_count": null,
   "id": "a05ee44f-64aa-4b28-9572-b09f602aac49",
   "metadata": {},
   "outputs": [],
   "source": []
  }
 ],
 "metadata": {
  "kernelspec": {
   "display_name": "Python 3 (ipykernel)",
   "language": "python",
   "name": "python3"
  },
  "language_info": {
   "codemirror_mode": {
    "name": "ipython",
    "version": 3
   },
   "file_extension": ".py",
   "mimetype": "text/x-python",
   "name": "python",
   "nbconvert_exporter": "python",
   "pygments_lexer": "ipython3",
   "version": "3.11.4"
  }
 },
 "nbformat": 4,
 "nbformat_minor": 5
}
